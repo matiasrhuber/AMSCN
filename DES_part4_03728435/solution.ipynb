{
 "cells": [
  {
   "cell_type": "markdown",
   "metadata": {},
   "source": [
    "# Programming Assignment Part 4"
   ]
  },
  {
   "cell_type": "markdown",
   "metadata": {},
   "source": [
    "Analysis and General Questions"
   ]
  },
  {
   "cell_type": "markdown",
   "metadata": {},
   "source": [
    "Task 4.4.1"
   ]
  },
  {
   "cell_type": "markdown",
   "metadata": {},
   "source": [
    "For the sequences in task 4.2.1 appropriate lag sizes would be 0,2,4 because these values showed high correlation coefficients. The correlation can spread between -1 and 1, where a negative value means the variables are changing in opposite directions, and positive meaning their are changing in the same directions and extreme values indicate a stronger relationship. So these extreme values provide a better insight in the overall relationship of these sequences."
   ]
  },
  {
   "cell_type": "markdown",
   "metadata": {},
   "source": [
    "Task 4.4.2"
   ]
  },
  {
   "cell_type": "markdown",
   "metadata": {},
   "source": [
    "IAT and WT have a weak negative correlation across all traffic rates, suggesting this relationship to be independent from the traffic rate. Similarly IAT-ST as well as IAT-SYST also have a weak negative correlation through out all traffic rates. ST and SYST have a slightly stronger relationship, it is also positive which might indicate longer service times lead to longer overall system times. Lastly, there is a consistently strong relationship with WT1 and WT2, whihc suggests similar waiting times during different instances. In conclusion, none of the relationships change significantly with different arrival rates, so the influence of arrival rates is assumed to be minimum or none at all."
   ]
  },
  {
   "cell_type": "markdown",
   "metadata": {},
   "source": [
    "Task 4.4.3"
   ]
  },
  {
   "cell_type": "markdown",
   "metadata": {},
   "source": [
    "Higher traffic rates (0.5 compared to 0.01) significantly impact the dependent variable, system time, by increasing both its magnitude and variability. The relationship between service time and system time remains non-linear, but higher traffic rates increases this non-linearity, leading to steeper increases in system time with increasing service time. This suggests that managing traffic rates is crucial in controlling the variability and relationship of both variables. As traffic rates increase, both service time and system time increase in magnitude and variability so the covariance naturally increases, however as seen in the previous results, the correlation remains constant. "
   ]
  },
  {
   "cell_type": "markdown",
   "metadata": {},
   "source": [
    "Task 4.4.4"
   ]
  },
  {
   "cell_type": "markdown",
   "metadata": {},
   "source": [
    "With N=100, the sample size is relatively small, leading to higher variability and less stable results, this becomes more evident in the lower arrival rates. With higher arrival rates, the autocorrelation of waiting times and the lag have a near perfectly linear relationship, however at 0.01 it becomes evident in both simulations the non-linearity of the relationship."
   ]
  },
  {
   "cell_type": "code",
   "execution_count": null,
   "metadata": {},
   "outputs": [],
   "source": []
  },
  {
   "cell_type": "markdown",
   "metadata": {},
   "source": []
  }
 ],
 "metadata": {
  "language_info": {
   "name": "python"
  }
 },
 "nbformat": 4,
 "nbformat_minor": 2
}
