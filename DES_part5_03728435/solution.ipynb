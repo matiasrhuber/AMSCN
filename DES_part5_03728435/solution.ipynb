{
 "cells": [
  {
   "cell_type": "markdown",
   "metadata": {},
   "source": [
    "# Task 5.3.1"
   ]
  },
  {
   "cell_type": "markdown",
   "metadata": {},
   "source": [
    "521 results\n",
    "Blocking probabilities: [0.16393442622950818, 0.15966386554621848, 0.12931034482758622, 0.07339449541284404, 0.13675213675213677, 0.05504587155963303, 0.17355371900826447, 0.13675213675213677, 0.13675213675213677, 0.192, 0.15966386554621848, 0.1452991452991453, 0.1206896551724138, 0.15254237288135594, 0.19047619047619047, 0.2536231884057971, 0.1937984496124031, 0.08256880733944955, 0.16260162601626016, 0.10434782608695652, 0.07964601769911504, 0.1487603305785124, 0.07272727272727272, 0.06422018348623854, 0.09009009009009009, 0.2]\n",
    "Final confidence interval width: 0.019934941615768836\n"
   ]
  },
  {
   "cell_type": "markdown",
   "metadata": {},
   "source": [
    "522 results\n",
    "Blocking probabilities: [0.14285714285714285, 0.17355371900826447, 0.23880597014925373, 0.06306306306306306, 0.1487603305785124, 0.16393442622950818, 0.2248062015503876, 0.16129032258064516, 0.1968503937007874, 0.2, 0.184, 0.07407407407407407, 0.16393442622950818, 0.05555555555555555, 0.15833333333333333, 0.1487603305785124, 0.1487603305785124, 0.13445378151260504, 0.05454545454545454, 0.10434782608695652, 0.21804511278195488, 0.10619469026548672, 0.12280701754385964, 0.18032786885245902, 0.15254237288135594, 0.14754098360655737, 0.15447154471544716]\n",
    "Final confidence interval width: 0.019383134541328794\n",
    "Total simulation time: 0\n"
   ]
  },
  {
   "cell_type": "markdown",
   "metadata": {},
   "source": [
    "At a 0.95 confidence level, the confidence interval around the mean would typically be wider compared to a 0.5 confidence level. This means that the spread of the boxplot representing the 0.95 confidence interval would be broader than that of the 0.5 confidence interval."
   ]
  },
  {
   "cell_type": "markdown",
   "metadata": {},
   "source": [
    "# Task 5.3.2"
   ]
  },
  {
   "cell_type": "markdown",
   "metadata": {},
   "source": [
    "The number of runs (or batches) required varies due to how quickly the confidence interval narrows with each approach. Fixed-time simulations (5.2.1) may need more runs initially but provide results faster for each run. Batch simulations (5.2.2) may converge faster per packet but require continuous monitoring."
   ]
  },
  {
   "cell_type": "markdown",
   "metadata": {},
   "source": [
    "# Task 5.3.3"
   ]
  },
  {
   "cell_type": "markdown",
   "metadata": {},
   "source": []
  },
  {
   "cell_type": "markdown",
   "metadata": {},
   "source": [
    "# Task 5.3.4"
   ]
  },
  {
   "cell_type": "markdown",
   "metadata": {},
   "source": [
    "Fixed-time or batch approaches (as in tasks 5.2.1 and 5.2.2) provide clearer stopping criteria and allow for controlled experimentation, whereas an infinite simulations may be challenging without such cirterias and also potentially need constant monitoring."
   ]
  },
  {
   "cell_type": "markdown",
   "metadata": {},
   "source": [
    "# Task 5.3.5"
   ]
  },
  {
   "cell_type": "markdown",
   "metadata": {},
   "source": [
    "With a larger sample size, the bootstrap confidence intervals converge to normal intervals, creating a similar data distribution. "
   ]
  },
  {
   "cell_type": "markdown",
   "metadata": {},
   "source": []
  }
 ],
 "metadata": {
  "language_info": {
   "name": "python"
  }
 },
 "nbformat": 4,
 "nbformat_minor": 2
}
