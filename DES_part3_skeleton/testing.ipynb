{
 "cells": [
  {
   "cell_type": "code",
   "execution_count": 1,
   "metadata": {},
   "outputs": [],
   "source": [
    "import numpy as np\n",
    "import scipy"
   ]
  },
  {
   "cell_type": "code",
   "execution_count": 97,
   "metadata": {},
   "outputs": [],
   "source": [
    "z =[0.0, 6.666666666666667, 13.333333333333334, 20.0, 26.666666666666668, 33.333333333333336, 40.0, 46.66666666666667, 53.333333333333336, 60.0, 66.66666666666667, 73.33333333333334, 80.0, 86.66666666666667, 93.33333333333334, 100.0, 106.66666666666667, 113.33333333333334, 120.0, 126.66666666666667, 133.33333333333334, 140.0, 146.66666666666669, 153.33333333333334, 160.0, 166.66666666666669, 173.33333333333334, 180.0, 186.66666666666669, 193.33333333333334, 200.0]\n",
    "x = [126, 109, 107, 73, 67, 61, 51, 51, 44, 45, 28, 28, 30, 15, 19, 14, 13, 16, 9, 11, 7, 9, 5, 9, 7, 6, 3, 4, 5, 4]\n",
    "y = np.array([45])\n",
    "\n",
    "#first step is to create the pdf for each bin, secondly join the quantiles with lower frequencies than 5, ?thirdly check for any values with a lower probability than alpha? "
   ]
  },
  {
   "cell_type": "code",
   "execution_count": 60,
   "metadata": {},
   "outputs": [
    {
     "data": {
      "text/plain": [
       "31"
      ]
     },
     "execution_count": 60,
     "metadata": {},
     "output_type": "execute_result"
    }
   ],
   "source": [
    "len(z)"
   ]
  },
  {
   "cell_type": "code",
   "execution_count": 66,
   "metadata": {},
   "outputs": [
    {
     "name": "stdout",
     "output_type": "stream",
     "text": [
      "[45]\n",
      "30 31\n"
     ]
    }
   ],
   "source": [
    "print(y)\n",
    "print(len(x),len(z))"
   ]
  },
  {
   "cell_type": "code",
   "execution_count": 12,
   "metadata": {},
   "outputs": [
    {
     "data": {
      "text/plain": [
       "array([0.02      , 0.01750347, 0.01531857, 0.0134064 , 0.01173292,\n",
       "       0.01026834, 0.00898658, 0.00786481, 0.00688308, 0.00602388,\n",
       "       0.00527194, 0.00461386, 0.00403793, 0.00353389, 0.00309277,\n",
       "       0.00270671, 0.00236884, 0.00207314, 0.00181436, 0.00158788,\n",
       "       0.00138967, 0.0012162 , 0.00106439, 0.00093152, 0.00081524,\n",
       "       0.00071348, 0.00062442, 0.00054647, 0.00047826, 0.00041856,\n",
       "       0.00036631])"
      ]
     },
     "execution_count": 12,
     "metadata": {},
     "output_type": "execute_result"
    }
   ],
   "source": [
    "ppf"
   ]
  },
  {
   "cell_type": "code",
   "execution_count": 109,
   "metadata": {},
   "outputs": [],
   "source": [
    "dist = scipy.stats.expon\n",
    "orig_ppf = dist.cdf(z, loc=0, scale=50)\n",
    "orig_ppf = np.diff(np.append(orig_ppf,[1]))\n",
    "\n",
    "quantiles = []\n",
    "freq = []\n",
    "new_val = 0\n",
    "ppf = []\n",
    "new_ppf = 0\n",
    "\n",
    "for i,val in enumerate(x):\n",
    "    if (val > 5) & (new_val == 0):\n",
    "        freq.append(val)\n",
    "        quantiles.append(z[i])\n",
    "        ppf.append(orig_ppf[i])\n",
    "        continue\n",
    "    new_val += val\n",
    "    new_ppf += orig_ppf[i]\n",
    "    if new_val > 5:\n",
    "        freq.append(new_val)\n",
    "        quantiles.append(z[i])\n",
    "        ppf.append(new_ppf)\n",
    "        new_val = 0\n",
    "        new_ppf = 0\n",
    "        continue\n",
    "\n",
    "expected_freq = np.multiply(np.array(ppf),np.sum(freq))\n",
    "chi_sq = np.sum((freq - expected_freq)**2 / expected_freq)\n"
   ]
  },
  {
   "cell_type": "code",
   "execution_count": 122,
   "metadata": {},
   "outputs": [
    {
     "data": {
      "text/plain": [
       "16.182190523772487"
      ]
     },
     "execution_count": 122,
     "metadata": {},
     "output_type": "execute_result"
    }
   ],
   "source": [
    "chi_sq"
   ]
  },
  {
   "cell_type": "code",
   "execution_count": 120,
   "metadata": {},
   "outputs": [
    {
     "data": {
      "text/plain": [
       "31"
      ]
     },
     "execution_count": 120,
     "metadata": {},
     "output_type": "execute_result"
    }
   ],
   "source": [
    "len(orig_ppf)"
   ]
  },
  {
   "cell_type": "code",
   "execution_count": 121,
   "metadata": {},
   "outputs": [
    {
     "data": {
      "text/plain": [
       "[0.0,\n",
       " 6.666666666666667,\n",
       " 13.333333333333334,\n",
       " 20.0,\n",
       " 26.666666666666668,\n",
       " 33.333333333333336,\n",
       " 40.0,\n",
       " 46.66666666666667,\n",
       " 53.333333333333336,\n",
       " 60.0,\n",
       " 66.66666666666667,\n",
       " 73.33333333333334,\n",
       " 80.0,\n",
       " 86.66666666666667,\n",
       " 93.33333333333334,\n",
       " 100.0,\n",
       " 106.66666666666667,\n",
       " 113.33333333333334,\n",
       " 120.0,\n",
       " 126.66666666666667,\n",
       " 133.33333333333334,\n",
       " 140.0,\n",
       " 146.66666666666669,\n",
       " 153.33333333333334,\n",
       " 160.0,\n",
       " 166.66666666666669,\n",
       " 173.33333333333334,\n",
       " 180.0,\n",
       " 186.66666666666669,\n",
       " 193.33333333333334,\n",
       " 200.0]"
      ]
     },
     "execution_count": 121,
     "metadata": {},
     "output_type": "execute_result"
    }
   ],
   "source": [
    "        # k = len(self.emp_n)  \n",
    "        # observed = np.array(self.emp_n)\n",
    "        \n",
    "        # if self.distr == TestDist.NORMAL:\n",
    "        #     expected = np.diff(scipy.stats.norm.cdf(self.emp_x, loc=mean, scale=np.sqrt(var))) * sum(observed)\n",
    "        # elif self.distr == TestDist.EXPONENTIAL:\n",
    "        #     expected = np.diff(scipy.stats.expon.cdf(self.emp_x, loc=0, scale=mean)) * sum(observed)\n",
    "       \n",
    "        # if self.dist_f == scipy.stats.norm:\n",
    "        #     expected_freq = np.diff(self.dist_f.ppf(q=[0,alpha], loc=mean, scale=var**0.5))\n",
    "        # elif self.dist_f == scipy.stats.expon:  \n",
    "        #     expected_freq = np.diff(self.dist_f.ppf([0,alpha], loc=0, scale=mean))\n",
    "        # print('alpha:', alpha, 'mean:', mean, 'var:', var)\n",
    "        # # if frequencies are below 5 use neighbouring frequencies\n",
    "        # combined_emp_x = []\n",
    "        # combined_emp_n = []\n",
    "        # curr_freq_sum = 0\n",
    "        # print(list(self.emp_n))\n",
    "\n",
    "        # print('emp_x', list(self.emp_x))\n",
    "        # # for x, n in zip(self.emp_x, self.emp_n):\n",
    "        # #     if curr_freq_sum + n < 5:\n",
    "        # #         curr_freq_sum += n\n",
    "        # #     else:\n",
    "        # #         combined_emp_x.append(x)\n",
    "        # #         combined_emp_n.append(curr_freq_sum + n)\n",
    "        # #         curr_freq_sum = 0\n",
    "        # #     combined_emp_x.append(x)\n",
    "        # #     combined_emp_n.append(curr_freq_sum + n)\n",
    "        # #     self.emp_x = combined_emp_x\n",
    "        # #     self.emp_n = combined_emp_n\n",
    "        \n",
    "        # observed_freq = self.emp_n\n",
    "        # print(expected_freq[0], self.emp_n)\n",
    "        # chi_sq = np.sum((observed_freq - expected_freq)**2 / expected_freq)\n",
    "        # print(chi_sq)\n",
    "        \n",
    "        # \n",
    "        \n",
    "        # "
   ]
  },
  {
   "cell_type": "code",
   "execution_count": 118,
   "metadata": {},
   "outputs": [
    {
     "data": {
      "text/plain": [
       "[126,\n",
       " 109,\n",
       " 107,\n",
       " 73,\n",
       " 67,\n",
       " 61,\n",
       " 51,\n",
       " 51,\n",
       " 44,\n",
       " 45,\n",
       " 28,\n",
       " 28,\n",
       " 30,\n",
       " 15,\n",
       " 19,\n",
       " 14,\n",
       " 13,\n",
       " 16,\n",
       " 9,\n",
       " 11,\n",
       " 7,\n",
       " 9,\n",
       " 14,\n",
       " 7,\n",
       " 6,\n",
       " 7,\n",
       " 9]"
      ]
     },
     "execution_count": 118,
     "metadata": {},
     "output_type": "execute_result"
    }
   ],
   "source": [
    "freq"
   ]
  },
  {
   "cell_type": "code",
   "execution_count": 111,
   "metadata": {},
   "outputs": [
    {
     "data": {
      "text/plain": [
       "1.0"
      ]
     },
     "execution_count": 111,
     "metadata": {},
     "output_type": "execute_result"
    }
   ],
   "source": [
    "np.sum(orig_ppf)"
   ]
  },
  {
   "cell_type": "code",
   "execution_count": 112,
   "metadata": {},
   "outputs": [
    {
     "data": {
      "text/plain": [
       "array([0.12482668, 0.10924498, 0.09560829, 0.08367383, 0.0732291 ,\n",
       "       0.06408815, 0.05608824, 0.04908693, 0.04295957, 0.03759707,\n",
       "       0.03290396, 0.02879666, 0.02520207, 0.02205618, 0.01930298,\n",
       "       0.01689345, 0.0147847 , 0.01293918, 0.01132402, 0.00991048,\n",
       "       0.00867339, 0.00759072, 0.00664319, 0.00581395, 0.00508821,\n",
       "       0.00445307, 0.0038972 , 0.00341073, 0.00298498, 0.00261237,\n",
       "       0.01831564])"
      ]
     },
     "execution_count": 112,
     "metadata": {},
     "output_type": "execute_result"
    }
   ],
   "source": [
    "orig_ppf"
   ]
  },
  {
   "cell_type": "code",
   "execution_count": 115,
   "metadata": {},
   "outputs": [
    {
     "data": {
      "text/plain": [
       "0.01831563888873422"
      ]
     },
     "execution_count": 115,
     "metadata": {},
     "output_type": "execute_result"
    }
   ],
   "source": [
    "1-np.sum(ppf)"
   ]
  },
  {
   "cell_type": "code",
   "execution_count": 62,
   "metadata": {},
   "outputs": [
    {
     "data": {
      "text/plain": [
       "-0.01963368722222532"
      ]
     },
     "execution_count": 62,
     "metadata": {},
     "output_type": "execute_result"
    }
   ],
   "source": [
    "np.sum(np.diff(orig_ppf))"
   ]
  },
  {
   "cell_type": "code",
   "execution_count": 92,
   "metadata": {},
   "outputs": [],
   "source": [
    "dist = scipy.stats.expon\n",
    "orig_ppf = dist.cdf(z, loc=0, scale=50)\n",
    "# orig_ppf = np.append(orig_ppf,[1.0])\n",
    "# np.sum(np.diff(orig_ppf))"
   ]
  },
  {
   "cell_type": "code",
   "execution_count": 94,
   "metadata": {},
   "outputs": [
    {
     "data": {
      "text/plain": [
       "30"
      ]
     },
     "execution_count": 94,
     "metadata": {},
     "output_type": "execute_result"
    }
   ],
   "source": [
    "len(np.diff(orig_ppf))"
   ]
  },
  {
   "cell_type": "code",
   "execution_count": 93,
   "metadata": {},
   "outputs": [
    {
     "data": {
      "text/plain": [
       "31"
      ]
     },
     "execution_count": 93,
     "metadata": {},
     "output_type": "execute_result"
    }
   ],
   "source": [
    "len(orig_ppf)"
   ]
  },
  {
   "cell_type": "code",
   "execution_count": 73,
   "metadata": {},
   "outputs": [
    {
     "data": {
      "text/plain": [
       "0.15765389802551844"
      ]
     },
     "execution_count": 73,
     "metadata": {},
     "output_type": "execute_result"
    }
   ],
   "source": [
    "val"
   ]
  },
  {
   "cell_type": "code",
   "execution_count": 71,
   "metadata": {},
   "outputs": [
    {
     "data": {
      "text/plain": [
       "array([0.02      , 0.01750347, 0.01531857, 0.0134064 , 0.01173292,\n",
       "       0.01026834, 0.00898658, 0.00786481, 0.00688308, 0.00602388,\n",
       "       0.00527194, 0.00461386, 0.00403793, 0.00353389, 0.00309277,\n",
       "       0.00270671, 0.00236884, 0.00207314, 0.00181436, 0.00158788,\n",
       "       0.00138967, 0.0012162 , 0.00106439, 0.00093152, 0.00081524,\n",
       "       0.00071348, 0.00062442, 0.00054647, 0.00047826, 0.00041856,\n",
       "       0.00036631])"
      ]
     },
     "execution_count": 71,
     "metadata": {},
     "output_type": "execute_result"
    }
   ],
   "source": [
    "orig_ppf"
   ]
  },
  {
   "cell_type": "code",
   "execution_count": null,
   "metadata": {},
   "outputs": [],
   "source": []
  }
 ],
 "metadata": {
  "kernelspec": {
   "display_name": "base",
   "language": "python",
   "name": "python3"
  },
  "language_info": {
   "codemirror_mode": {
    "name": "ipython",
    "version": 3
   },
   "file_extension": ".py",
   "mimetype": "text/x-python",
   "name": "python",
   "nbconvert_exporter": "python",
   "pygments_lexer": "ipython3",
   "version": "3.9.7"
  },
  "orig_nbformat": 4
 },
 "nbformat": 4,
 "nbformat_minor": 2
}
