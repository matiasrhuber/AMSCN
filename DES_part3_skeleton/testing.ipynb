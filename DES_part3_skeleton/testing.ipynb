{
 "cells": [
  {
   "cell_type": "code",
   "execution_count": 2,
   "metadata": {},
   "outputs": [],
   "source": [
    "import numpy as np\n",
    "import scipy"
   ]
  },
  {
   "cell_type": "code",
   "execution_count": 4,
   "metadata": {},
   "outputs": [],
   "source": [
    "z =[0.0, 6.666666666666667, 13.333333333333334, 20.0, 26.666666666666668, 33.333333333333336, 40.0, 46.66666666666667, 53.333333333333336, 60.0, 66.66666666666667, 73.33333333333334, 80.0, 86.66666666666667, 93.33333333333334, 100.0, 106.66666666666667, 113.33333333333334, 120.0, 126.66666666666667, 133.33333333333334, 140.0, 146.66666666666669, 153.33333333333334, 160.0, 166.66666666666669, 173.33333333333334, 180.0, 186.66666666666669, 193.33333333333334, 200.0]\n",
    "x = [126, 109, 107, 73, 67, 61, 51, 51, 44, 45, 28, 28, 30, 15, 19, 14, 13, 16, 9, 11, 7, 9, 5, 9, 7, 6, 3, 4, 5, 4]\n",
    "y = np.array([45])\n",
    "\n",
    "#first step is to create the pdf for each bin, secondly join the quantiles with lower frequencies than 5, ?thirdly check for any values with a lower probability than alpha? "
   ]
  },
  {
   "cell_type": "code",
   "execution_count": 66,
   "metadata": {},
   "outputs": [
    {
     "name": "stdout",
     "output_type": "stream",
     "text": [
      "[45]\n",
      "30 31\n"
     ]
    }
   ],
   "source": [
    "print(y)\n",
    "print(len(x),len(z))"
   ]
  },
  {
   "cell_type": "code",
   "execution_count": 60,
   "metadata": {},
   "outputs": [
    {
     "data": {
      "text/plain": [
       "1642.8222222222223"
      ]
     },
     "execution_count": 60,
     "metadata": {},
     "output_type": "execute_result"
    }
   ],
   "source": [
    "np.sum((x-y)**2/y)"
   ]
  },
  {
   "cell_type": "code",
   "execution_count": 3,
   "metadata": {},
   "outputs": [],
   "source": [
    "dist = scipy.stats.expon"
   ]
  },
  {
   "cell_type": "code",
   "execution_count": 7,
   "metadata": {},
   "outputs": [
    {
     "data": {
      "text/plain": [
       "array([0.02      , 0.01750347, 0.01531857, 0.0134064 , 0.01173292,\n",
       "       0.01026834, 0.00898658, 0.00786481, 0.00688308, 0.00602388,\n",
       "       0.00527194, 0.00461386, 0.00403793, 0.00353389, 0.00309277,\n",
       "       0.00270671, 0.00236884, 0.00207314, 0.00181436, 0.00158788,\n",
       "       0.00138967, 0.0012162 , 0.00106439, 0.00093152, 0.00081524,\n",
       "       0.00071348, 0.00062442, 0.00054647, 0.00047826, 0.00041856,\n",
       "       0.00036631])"
      ]
     },
     "execution_count": 7,
     "metadata": {},
     "output_type": "execute_result"
    }
   ],
   "source": [
    "(dist.pdf(z, loc=0, scale=50))"
   ]
  },
  {
   "cell_type": "code",
   "execution_count": 24,
   "metadata": {},
   "outputs": [],
   "source": [
    "var: float=None"
   ]
  },
  {
   "cell_type": "code",
   "execution_count": 27,
   "metadata": {},
   "outputs": [
    {
     "ename": "TypeError",
     "evalue": "unsupported operand type(s) for ** or pow(): 'NoneType' and 'float'",
     "output_type": "error",
     "traceback": [
      "\u001b[0;31m---------------------------------------------------------------------------\u001b[0m",
      "\u001b[0;31mTypeError\u001b[0m                                 Traceback (most recent call last)",
      "\u001b[0;32m/var/folders/td/24bjbjdd2fdfcpk1wrnr3f4c0000gn/T/ipykernel_63133/215038970.py\u001b[0m in \u001b[0;36m<module>\u001b[0;34m\u001b[0m\n\u001b[0;32m----> 1\u001b[0;31m \u001b[0mnp\u001b[0m\u001b[0;34m.\u001b[0m\u001b[0mdiff\u001b[0m\u001b[0;34m(\u001b[0m\u001b[0mdist\u001b[0m\u001b[0;34m.\u001b[0m\u001b[0mppf\u001b[0m\u001b[0;34m(\u001b[0m\u001b[0;34m[\u001b[0m\u001b[0;36m0\u001b[0m\u001b[0;34m,\u001b[0m\u001b[0;36m0.1\u001b[0m\u001b[0;34m]\u001b[0m\u001b[0;34m,\u001b[0m\u001b[0mloc\u001b[0m\u001b[0;34m=\u001b[0m\u001b[0;36m50\u001b[0m\u001b[0;34m,\u001b[0m\u001b[0mscale\u001b[0m\u001b[0;34m=\u001b[0m\u001b[0mvar\u001b[0m\u001b[0;34m**\u001b[0m\u001b[0;36m0.5\u001b[0m\u001b[0;34m)\u001b[0m\u001b[0;34m)\u001b[0m\u001b[0;34m\u001b[0m\u001b[0;34m\u001b[0m\u001b[0m\n\u001b[0m",
      "\u001b[0;31mTypeError\u001b[0m: unsupported operand type(s) for ** or pow(): 'NoneType' and 'float'"
     ]
    }
   ],
   "source": [
    "np.diff(dist.ppf([0,0.1],loc=50,scale=var**0.5))"
   ]
  },
  {
   "cell_type": "code",
   "execution_count": null,
   "metadata": {},
   "outputs": [],
   "source": []
  }
 ],
 "metadata": {
  "kernelspec": {
   "display_name": "base",
   "language": "python",
   "name": "python3"
  },
  "language_info": {
   "codemirror_mode": {
    "name": "ipython",
    "version": 3
   },
   "file_extension": ".py",
   "mimetype": "text/x-python",
   "name": "python",
   "nbconvert_exporter": "python",
   "pygments_lexer": "ipython3",
   "version": "3.9.7"
  },
  "orig_nbformat": 4
 },
 "nbformat": 4,
 "nbformat_minor": 2
}
